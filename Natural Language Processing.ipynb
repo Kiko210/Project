{
 "cells": [
  {
   "cell_type": "code",
   "execution_count": 18,
   "id": "771cd577",
   "metadata": {},
   "outputs": [],
   "source": [
    "import nltk #language it can support eng,spanish, german, french, greek"
   ]
  },
  {
   "cell_type": "code",
   "execution_count": 20,
   "id": "85e94d83",
   "metadata": {},
   "outputs": [
    {
     "name": "stderr",
     "output_type": "stream",
     "text": [
      "[nltk_data] Downloading collection 'popular'\n",
      "[nltk_data]    | \n",
      "[nltk_data]    | Downloading package cmudict to\n",
      "[nltk_data]    |     C:\\Users\\Asus\\AppData\\Roaming\\nltk_data...\n",
      "[nltk_data]    |   Package cmudict is already up-to-date!\n",
      "[nltk_data]    | Downloading package gazetteers to\n",
      "[nltk_data]    |     C:\\Users\\Asus\\AppData\\Roaming\\nltk_data...\n",
      "[nltk_data]    |   Package gazetteers is already up-to-date!\n",
      "[nltk_data]    | Downloading package genesis to\n",
      "[nltk_data]    |     C:\\Users\\Asus\\AppData\\Roaming\\nltk_data...\n",
      "[nltk_data]    |   Package genesis is already up-to-date!\n",
      "[nltk_data]    | Downloading package gutenberg to\n",
      "[nltk_data]    |     C:\\Users\\Asus\\AppData\\Roaming\\nltk_data...\n",
      "[nltk_data]    |   Package gutenberg is already up-to-date!\n",
      "[nltk_data]    | Downloading package inaugural to\n",
      "[nltk_data]    |     C:\\Users\\Asus\\AppData\\Roaming\\nltk_data...\n",
      "[nltk_data]    |   Package inaugural is already up-to-date!\n",
      "[nltk_data]    | Downloading package movie_reviews to\n",
      "[nltk_data]    |     C:\\Users\\Asus\\AppData\\Roaming\\nltk_data...\n",
      "[nltk_data]    |   Package movie_reviews is already up-to-date!\n",
      "[nltk_data]    | Downloading package names to\n",
      "[nltk_data]    |     C:\\Users\\Asus\\AppData\\Roaming\\nltk_data...\n",
      "[nltk_data]    |   Package names is already up-to-date!\n",
      "[nltk_data]    | Downloading package shakespeare to\n",
      "[nltk_data]    |     C:\\Users\\Asus\\AppData\\Roaming\\nltk_data...\n",
      "[nltk_data]    |   Package shakespeare is already up-to-date!\n",
      "[nltk_data]    | Downloading package stopwords to\n",
      "[nltk_data]    |     C:\\Users\\Asus\\AppData\\Roaming\\nltk_data...\n",
      "[nltk_data]    |   Package stopwords is already up-to-date!\n",
      "[nltk_data]    | Downloading package treebank to\n",
      "[nltk_data]    |     C:\\Users\\Asus\\AppData\\Roaming\\nltk_data...\n",
      "[nltk_data]    |   Package treebank is already up-to-date!\n",
      "[nltk_data]    | Downloading package twitter_samples to\n",
      "[nltk_data]    |     C:\\Users\\Asus\\AppData\\Roaming\\nltk_data...\n",
      "[nltk_data]    |   Package twitter_samples is already up-to-date!\n",
      "[nltk_data]    | Downloading package omw to\n",
      "[nltk_data]    |     C:\\Users\\Asus\\AppData\\Roaming\\nltk_data...\n",
      "[nltk_data]    |   Package omw is already up-to-date!\n",
      "[nltk_data]    | Downloading package omw-1.4 to\n",
      "[nltk_data]    |     C:\\Users\\Asus\\AppData\\Roaming\\nltk_data...\n",
      "[nltk_data]    |   Package omw-1.4 is already up-to-date!\n",
      "[nltk_data]    | Downloading package wordnet to\n",
      "[nltk_data]    |     C:\\Users\\Asus\\AppData\\Roaming\\nltk_data...\n",
      "[nltk_data]    | Downloading package wordnet2021 to\n",
      "[nltk_data]    |     C:\\Users\\Asus\\AppData\\Roaming\\nltk_data...\n",
      "[nltk_data]    | Downloading package wordnet31 to\n",
      "[nltk_data]    |     C:\\Users\\Asus\\AppData\\Roaming\\nltk_data...\n",
      "[nltk_data]    | Downloading package wordnet_ic to\n",
      "[nltk_data]    |     C:\\Users\\Asus\\AppData\\Roaming\\nltk_data...\n",
      "[nltk_data]    |   Unzipping corpora\\wordnet_ic.zip.\n",
      "[nltk_data]    | Downloading package words to\n",
      "[nltk_data]    |     C:\\Users\\Asus\\AppData\\Roaming\\nltk_data...\n",
      "[nltk_data]    |   Unzipping corpora\\words.zip.\n",
      "[nltk_data]    | Downloading package maxent_ne_chunker to\n",
      "[nltk_data]    |     C:\\Users\\Asus\\AppData\\Roaming\\nltk_data...\n",
      "[nltk_data]    |   Unzipping chunkers\\maxent_ne_chunker.zip.\n",
      "[nltk_data]    | Downloading package punkt to\n",
      "[nltk_data]    |     C:\\Users\\Asus\\AppData\\Roaming\\nltk_data...\n",
      "[nltk_data]    |   Unzipping tokenizers\\punkt.zip.\n",
      "[nltk_data]    | Downloading package snowball_data to\n",
      "[nltk_data]    |     C:\\Users\\Asus\\AppData\\Roaming\\nltk_data...\n",
      "[nltk_data]    | Downloading package averaged_perceptron_tagger to\n",
      "[nltk_data]    |     C:\\Users\\Asus\\AppData\\Roaming\\nltk_data...\n",
      "[nltk_data]    |   Unzipping taggers\\averaged_perceptron_tagger.zip.\n",
      "[nltk_data]    | \n",
      "[nltk_data]  Done downloading collection popular\n"
     ]
    },
    {
     "data": {
      "text/plain": [
       "True"
      ]
     },
     "execution_count": 20,
     "metadata": {},
     "output_type": "execute_result"
    }
   ],
   "source": [
    "nltk.download('popular')"
   ]
  },
  {
   "cell_type": "code",
   "execution_count": 24,
   "id": "ed1d941b",
   "metadata": {},
   "outputs": [],
   "source": [
    "#NLP is a branch of CS or AL that has the ability to understand human languages. Using NLP we give computers the ability \n",
    "#to understand, interpret, manipulate."
   ]
  },
  {
   "cell_type": "code",
   "execution_count": null,
   "id": "8857e6d3",
   "metadata": {},
   "outputs": [],
   "source": [
    "#1. Tokenization: Process of breaking down a paragraph into smaller chunk of words"
   ]
  },
  {
   "cell_type": "code",
   "execution_count": 21,
   "id": "5260d9c0",
   "metadata": {},
   "outputs": [],
   "source": [
    "from nltk.tokenize import sent_tokenize"
   ]
  },
  {
   "cell_type": "code",
   "execution_count": 22,
   "id": "ae3fb749",
   "metadata": {},
   "outputs": [],
   "source": [
    "paragraph = \"\"\"Hello Participants ! Topic of the day is Natural Language Processing. We are learning about\n",
    "Natural Language Processing using nltk package. natural language processing is interesting and easy.\n",
    "This is also known as NLP.\"\"\""
   ]
  },
  {
   "cell_type": "code",
   "execution_count": 23,
   "id": "890287f7",
   "metadata": {},
   "outputs": [],
   "source": [
    "tokenized_text = sent_tokenize(paragraph)"
   ]
  },
  {
   "cell_type": "code",
   "execution_count": 25,
   "id": "8d48c692",
   "metadata": {},
   "outputs": [
    {
     "data": {
      "text/plain": [
       "['Hello Participants !',\n",
       " 'Topic of the day is Natural Language Processing.',\n",
       " 'We are learning about\\nNatural Language Processing using nltk package.',\n",
       " 'natural language processing is interesting and easy.',\n",
       " 'This is also known as NLP.']"
      ]
     },
     "execution_count": 25,
     "metadata": {},
     "output_type": "execute_result"
    }
   ],
   "source": [
    "tokenized_text"
   ]
  },
  {
   "cell_type": "code",
   "execution_count": 26,
   "id": "1628fb26",
   "metadata": {},
   "outputs": [],
   "source": [
    "#2. Word Tokenization"
   ]
  },
  {
   "cell_type": "code",
   "execution_count": 27,
   "id": "516e6f72",
   "metadata": {},
   "outputs": [],
   "source": [
    "from nltk.tokenize import word_tokenize #includes punctuation"
   ]
  },
  {
   "cell_type": "code",
   "execution_count": 28,
   "id": "688c11da",
   "metadata": {},
   "outputs": [
    {
     "name": "stdout",
     "output_type": "stream",
     "text": [
      "['Hello', 'Participants', '!', 'Topic', 'of', 'the', 'day', 'is', 'Natural', 'Language', 'Processing', '.', 'We', 'are', 'learning', 'about', 'Natural', 'Language', 'Processing', 'using', 'nltk', 'package', '.', 'natural', 'language', 'processing', 'is', 'interesting', 'and', 'easy', '.', 'This', 'is', 'also', 'known', 'as', 'NLP', '.']\n"
     ]
    }
   ],
   "source": [
    "print(word_tokenize(paragraph))"
   ]
  },
  {
   "cell_type": "code",
   "execution_count": 29,
   "id": "a8f76d15",
   "metadata": {},
   "outputs": [],
   "source": [
    "#3. Tokens and removing Punctuations"
   ]
  },
  {
   "cell_type": "code",
   "execution_count": 30,
   "id": "6ebef51e",
   "metadata": {},
   "outputs": [
    {
     "data": {
      "text/plain": [
       "['Hello',\n",
       " 'Participants',\n",
       " 'Topic',\n",
       " 'of',\n",
       " 'the',\n",
       " 'day',\n",
       " 'is',\n",
       " 'Natural',\n",
       " 'Language',\n",
       " 'Processing',\n",
       " 'We',\n",
       " 'are',\n",
       " 'learning',\n",
       " 'about',\n",
       " 'Natural',\n",
       " 'Language',\n",
       " 'Processing',\n",
       " 'using',\n",
       " 'nltk',\n",
       " 'package',\n",
       " 'natural',\n",
       " 'language',\n",
       " 'processing',\n",
       " 'is',\n",
       " 'interesting',\n",
       " 'and',\n",
       " 'easy',\n",
       " 'This',\n",
       " 'is',\n",
       " 'also',\n",
       " 'known',\n",
       " 'as',\n",
       " 'NLP']"
      ]
     },
     "execution_count": 30,
     "metadata": {},
     "output_type": "execute_result"
    }
   ],
   "source": [
    "from nltk.tokenize import RegexpTokenizer #doesn't include punctuations\n",
    "tokeizer = RegexpTokenizer(r'\\w+')\n",
    "tokeizer.tokenize(paragraph)"
   ]
  },
  {
   "cell_type": "code",
   "execution_count": 31,
   "id": "30dbbc9c",
   "metadata": {},
   "outputs": [],
   "source": [
    "# 4. Lowercase paragraph/ sentence"
   ]
  },
  {
   "cell_type": "code",
   "execution_count": 32,
   "id": "f1d14aa9",
   "metadata": {},
   "outputs": [
    {
     "data": {
      "text/plain": [
       "'hello participants ! topic of the day is natural language processing. we are learning about\\nnatural language processing using nltk package. natural language processing is interesting and easy.\\nthis is also known as nlp.'"
      ]
     },
     "execution_count": 32,
     "metadata": {},
     "output_type": "execute_result"
    }
   ],
   "source": [
    "paragraph = paragraph.lower()\n",
    "paragraph"
   ]
  },
  {
   "cell_type": "code",
   "execution_count": 33,
   "id": "85f13b0b",
   "metadata": {},
   "outputs": [],
   "source": [
    "tokenizer = RegexpTokenizer(r'\\w+')\n",
    "new_words = tokenizer.tokenize(paragraph)"
   ]
  },
  {
   "cell_type": "code",
   "execution_count": 34,
   "id": "80eef83c",
   "metadata": {},
   "outputs": [],
   "source": [
    "# Removing stop words"
   ]
  },
  {
   "cell_type": "code",
   "execution_count": 36,
   "id": "8fbfc9f7",
   "metadata": {},
   "outputs": [],
   "source": [
    "from nltk.corpus import stopwords"
   ]
  },
  {
   "cell_type": "code",
   "execution_count": 39,
   "id": "a3917a00",
   "metadata": {},
   "outputs": [
    {
     "name": "stdout",
     "output_type": "stream",
     "text": [
      "['i', 'me', 'my', 'myself', 'we', 'our', 'ours', 'ourselves', 'you', \"you're\", \"you've\", \"you'll\", \"you'd\", 'your', 'yours', 'yourself', 'yourselves', 'he', 'him', 'his', 'himself', 'she', \"she's\", 'her', 'hers', 'herself', 'it', \"it's\", 'its', 'itself', 'they', 'them', 'their', 'theirs', 'themselves', 'what', 'which', 'who', 'whom', 'this', 'that', \"that'll\", 'these', 'those', 'am', 'is', 'are', 'was', 'were', 'be', 'been', 'being', 'have', 'has', 'had', 'having', 'do', 'does', 'did', 'doing', 'a', 'an', 'the', 'and', 'but', 'if', 'or', 'because', 'as', 'until', 'while', 'of', 'at', 'by', 'for', 'with', 'about', 'against', 'between', 'into', 'through', 'during', 'before', 'after', 'above', 'below', 'to', 'from', 'up', 'down', 'in', 'out', 'on', 'off', 'over', 'under', 'again', 'further', 'then', 'once', 'here', 'there', 'when', 'where', 'why', 'how', 'all', 'any', 'both', 'each', 'few', 'more', 'most', 'other', 'some', 'such', 'no', 'nor', 'not', 'only', 'own', 'same', 'so', 'than', 'too', 'very', 's', 't', 'can', 'will', 'just', 'don', \"don't\", 'should', \"should've\", 'now', 'd', 'll', 'm', 'o', 're', 've', 'y', 'ain', 'aren', \"aren't\", 'couldn', \"couldn't\", 'didn', \"didn't\", 'doesn', \"doesn't\", 'hadn', \"hadn't\", 'hasn', \"hasn't\", 'haven', \"haven't\", 'isn', \"isn't\", 'ma', 'mightn', \"mightn't\", 'mustn', \"mustn't\", 'needn', \"needn't\", 'shan', \"shan't\", 'shouldn', \"shouldn't\", 'wasn', \"wasn't\", 'weren', \"weren't\", 'won', \"won't\", 'wouldn', \"wouldn't\"]\n"
     ]
    }
   ],
   "source": [
    "# english, german, spanish, portuguese, dutch, italian, greek\n",
    "stop_words = stopwords.words(\"english\")\n",
    "print(stop_words)"
   ]
  },
  {
   "cell_type": "code",
   "execution_count": 40,
   "id": "92f00d58",
   "metadata": {},
   "outputs": [],
   "source": [
    "filtered_words = []\n",
    "for w in new_words:\n",
    "    if w not in stop_words:\n",
    "        filtered_words.append(w)"
   ]
  },
  {
   "cell_type": "code",
   "execution_count": 41,
   "id": "6266b91a",
   "metadata": {},
   "outputs": [
    {
     "data": {
      "text/plain": [
       "['hello',\n",
       " 'participants',\n",
       " 'topic',\n",
       " 'day',\n",
       " 'natural',\n",
       " 'language',\n",
       " 'processing',\n",
       " 'learning',\n",
       " 'natural',\n",
       " 'language',\n",
       " 'processing',\n",
       " 'using',\n",
       " 'nltk',\n",
       " 'package',\n",
       " 'natural',\n",
       " 'language',\n",
       " 'processing',\n",
       " 'interesting',\n",
       " 'easy',\n",
       " 'also',\n",
       " 'known',\n",
       " 'nlp']"
      ]
     },
     "execution_count": 41,
     "metadata": {},
     "output_type": "execute_result"
    }
   ],
   "source": [
    "filtered_words"
   ]
  },
  {
   "cell_type": "code",
   "execution_count": 42,
   "id": "45e703bb",
   "metadata": {},
   "outputs": [],
   "source": [
    "# 6. Frequency Distribution"
   ]
  },
  {
   "cell_type": "code",
   "execution_count": 43,
   "id": "9e54b009",
   "metadata": {},
   "outputs": [],
   "source": [
    "from nltk.probability import FreqDist\n",
    "import matplotlib.pyplot as plt"
   ]
  },
  {
   "cell_type": "code",
   "execution_count": 44,
   "id": "ad796cd0",
   "metadata": {},
   "outputs": [
    {
     "data": {
      "image/png": "[encoded data removed]",
      "text/plain": [
       "<Figure size 640x480 with 1 Axes>"
      ]
     },
     "metadata": {},
     "output_type": "display_data"
    }
   ],
   "source": [
    "fdist = FreqDist(filtered_words)\n",
    "fdist.plot()\n",
    "plt.show()"
   ]
  },
  {
   "cell_type": "code",
   "execution_count": 45,
   "id": "f4bd3075",
   "metadata": {},
   "outputs": [],
   "source": [
    "# Lexican Normalization:\n",
    "# Stemming(process of eliminating affixes like 's','ing') and Lemmetization(process of converting a word into its root form)"
   ]
  },
  {
   "cell_type": "code",
   "execution_count": 46,
   "id": "584489ab",
   "metadata": {},
   "outputs": [],
   "source": [
    "from nltk.stem.wordnet import WordNetLemmatizer\n",
    "lemmas = WordNetLemmatizer()"
   ]
  },
  {
   "cell_type": "code",
   "execution_count": 47,
   "id": "fadcd61a",
   "metadata": {},
   "outputs": [
    {
     "data": {
      "text/plain": [
       "'harry'"
      ]
     },
     "execution_count": 47,
     "metadata": {},
     "output_type": "execute_result"
    }
   ],
   "source": [
    "word = 'harry'\n",
    "lemmas.lemmatize(word, 'n')"
   ]
  },
  {
   "cell_type": "code",
   "execution_count": 48,
   "id": "2342e907",
   "metadata": {},
   "outputs": [],
   "source": [
    "from nltk.stem import PorterStemmer\n",
    "pstem = PorterStemmer()"
   ]
  },
  {
   "cell_type": "code",
   "execution_count": 49,
   "id": "cec9aaaf",
   "metadata": {},
   "outputs": [
    {
     "data": {
      "text/plain": [
       "'cun'"
      ]
     },
     "execution_count": 49,
     "metadata": {},
     "output_type": "execute_result"
    }
   ],
   "source": [
    "words = \"cunning\"\n",
    "pstem.stem(words)"
   ]
  },
  {
   "cell_type": "code",
   "execution_count": 50,
   "id": "23e678d8",
   "metadata": {},
   "outputs": [],
   "source": [
    "# Parts of Speech"
   ]
  },
  {
   "cell_type": "code",
   "execution_count": 51,
   "id": "efa87840",
   "metadata": {},
   "outputs": [],
   "source": [
    "sentence = \"Natural language Processing can do amazing stuff like chatbots\""
   ]
  },
  {
   "cell_type": "code",
   "execution_count": 55,
   "id": "3d7d4c9b",
   "metadata": {},
   "outputs": [],
   "source": [
    "# POS tagging"
   ]
  },
  {
   "cell_type": "code",
   "execution_count": 52,
   "id": "7fd1eafe",
   "metadata": {},
   "outputs": [
    {
     "data": {
      "text/plain": [
       "[('hello', 'NN'),\n",
       " ('participants', 'NNS'),\n",
       " ('topic', 'VBP'),\n",
       " ('day', 'NN'),\n",
       " ('natural', 'JJ'),\n",
       " ('language', 'NN'),\n",
       " ('processing', 'NN'),\n",
       " ('learning', 'VBG'),\n",
       " ('natural', 'JJ'),\n",
       " ('language', 'NN'),\n",
       " ('processing', 'NN'),\n",
       " ('using', 'VBG'),\n",
       " ('nltk', 'JJ'),\n",
       " ('package', 'NN'),\n",
       " ('natural', 'JJ'),\n",
       " ('language', 'NN'),\n",
       " ('processing', 'NN'),\n",
       " ('interesting', 'JJ'),\n",
       " ('easy', 'JJ'),\n",
       " ('also', 'RB'),\n",
       " ('known', 'VBN'),\n",
       " ('nlp', 'NN')]"
      ]
     },
     "execution_count": 52,
     "metadata": {},
     "output_type": "execute_result"
    }
   ],
   "source": [
    "from nltk import pos_tag\n",
    "pos_tag(filtered_words)"
   ]
  },
  {
   "cell_type": "code",
   "execution_count": 53,
   "id": "55adf4a0",
   "metadata": {},
   "outputs": [],
   "source": [
    "def lammatize_words(words):\n",
    "    lammas = WordNetLemmatizer()\n",
    "    for word, tag in pos_tag(words):\n",
    "        if tag.startswith('NN'):\n",
    "            yield lemmas.lemmatize(word, 'n')\n",
    "        if tag.startswith('VB'):\n",
    "            yield lemmas.lemmatize(word, 'v')\n",
    "        if tag.startswith('JJ'):\n",
    "            yield lemmas.lemmatize(word, 'a')\n",
    "        if tag.startswith('RB'):\n",
    "            yield lemmas.lemmatize(word, 'r')"
   ]
  },
  {
   "cell_type": "code",
   "execution_count": 54,
   "id": "fe222ee9",
   "metadata": {},
   "outputs": [
    {
     "name": "stdout",
     "output_type": "stream",
     "text": [
      "hello participant topic day natural language processing learn natural language processing use nltk package natural language processing interesting easy also know nlp\n"
     ]
    }
   ],
   "source": [
    "print(\" \".join(lammatize_words(filtered_words)))"
   ]
  },
  {
   "cell_type": "code",
   "execution_count": null,
   "id": "01a9df6f",
   "metadata": {},
   "outputs": [],
   "source": []
  }
 ],
 "metadata": {
  "kernelspec": {
   "display_name": "Python 3 (ipykernel)",
   "language": "python",
   "name": "python3"
  },
  "language_info": {
   "codemirror_mode": {
    "name": "ipython",
    "version": 3
   },
   "file_extension": ".py",
   "mimetype": "text/x-python",
   "name": "python",
   "nbconvert_exporter": "python",
   "pygments_lexer": "ipython3",
   "version": "3.11.4"
  }
 },
 "nbformat": 4,
 "nbformat_minor": 5
}
