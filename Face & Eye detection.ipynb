{
 "cells": [
  {
   "cell_type": "code",
   "execution_count": 1,
   "id": "f1d21dc3",
   "metadata": {},
   "outputs": [],
   "source": [
    "#Face and Eye Detection"
   ]
  },
  {
   "cell_type": "code",
   "execution_count": 6,
   "id": "3d60e857",
   "metadata": {},
   "outputs": [],
   "source": [
    "import cv2\n",
    "#import imutils\n",
    "\n",
    "face_cascade = cv2.CascadeClassifier(\"C:/Users/Asus/Desktop/Workshop IIT Bombay/haarcascade_frontalface_default.xml\")\n",
    "eye_cascade = cv2.CascadeClassifier(\"C:/Users/Asus/Desktop/Workshop IIT Bombay/haarcascade_eye.xml\")\n",
    "\n",
    "# Read Image\n",
    "img_r= cv2.imread(\"C:/Users/Asus/Desktop/Workshop IIT Bombay/child.jpg\")\n",
    "\n",
    "# Convert Image to GrayScale\n",
    "gray = cv2.cvtColor(img_r, cv2.COLOR_BGR2GRAY)\n",
    "# 1.3 = threshold value for scale factor, 5 = Num of nearest neighbouring features\n",
    "faces = face_cascade.detectMultiScale(gray, 1.3, 5)\n",
    "\n",
    "for (x,y,w,h) in faces:\n",
    "    # Draw the rectangle\n",
    "    cv2.rectangle(img_r, (x,y),(x+w, y+h), (255,0,0), 2)\n",
    "    # ROI is region of interest(face)\n",
    "    roi_gray = gray[y:y+h, x:x+w]\n",
    "    roi_color = img_r[y:y+h, x:x+w]\n",
    "    eyes = eye_cascade.detectMultiScale(roi_gray, 1.3, 3)\n",
    "    for (ex,ey,ew,eh) in eyes:\n",
    "        # Draw the rectangle\n",
    "        cv2.rectangle(roi_color, (ex,ey),(ex+ew, ey+eh), (0,0,0), 2)\n",
    "        \n",
    "cv2.imshow('frame', img_r)\n",
    "cv2.waitKey(0)\n",
    "cv2.destroyAllWindows()"
   ]
  },
  {
   "cell_type": "code",
   "execution_count": null,
   "id": "b61169e8",
   "metadata": {},
   "outputs": [],
   "source": []
  }
 ],
 "metadata": {
  "kernelspec": {
   "display_name": "Python 3 (ipykernel)",
   "language": "python",
   "name": "python3"
  },
  "language_info": {
   "codemirror_mode": {
    "name": "ipython",
    "version": 3
   },
   "file_extension": ".py",
   "mimetype": "text/x-python",
   "name": "python",
   "nbconvert_exporter": "python",
   "pygments_lexer": "ipython3",
   "version": "3.11.4"
  }
 },
 "nbformat": 4,
 "nbformat_minor": 5
}
