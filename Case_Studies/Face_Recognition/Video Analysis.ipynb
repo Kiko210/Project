{
 "cells": [
  {
   "cell_type": "code",
   "execution_count": 4,
   "id": "6b8bcbe8",
   "metadata": {},
   "outputs": [],
   "source": [
    "import cv2\n",
    "#0 -> id for camera(primary: webcam)\n",
    "face_cascade = cv2.CascadeClassifier(\"C:/Users/Asus/Desktop/Workshop IIT Bombay/haarcascade_frontalface_default.xml\")\n",
    "eye_cascade = cv2.CascadeClassifier(\"C:/Users/Asus/Desktop/Workshop IIT Bombay/haarcascade_eye.xml\")\n",
    "\n",
    "\n",
    "cap=cv2.VideoCapture(0)\n",
    "#for initialization\n",
    "while 1:\n",
    "    ret, frame = cap.read()#frane saves the stream of images from the video, ret =true if frame is captured else false\n",
    "    \n",
    "\n",
    "# Convert Image to GrayScale\n",
    "    gray = cv2.cvtColor(frame, cv2.COLOR_BGR2GRAY)\n",
    "# 1.3 = threshold value for scale factor, 5 = Num of nearest neighbouring features\n",
    "    faces = face_cascade.detectMultiScale(gray, 1.3, 5)\n",
    "\n",
    "    for (x,y,w,h) in faces:\n",
    "    # Draw the rectangle\n",
    "        cv2.rectangle(frame, (x,y),(x+w, y+h), (255,255,255), 2)\n",
    "    # ROI is region of interest(face)\n",
    "        roi_gray = gray[y:y+h, x:x+w]\n",
    "        roi_color = frame[y:y+h, x:x+w]\n",
    "        eyes = eye_cascade.detectMultiScale(roi_gray, 1.3, 3)\n",
    "        for (ex,ey,ew,eh) in eyes:\n",
    "        # Draw the rectangle\n",
    "            cv2.rectangle(roi_color, (ex,ey),(ex+ew, ey+eh), (0,0,0), 2)\n",
    "        \n",
    "    cv2.imshow('Frame',frame)\n",
    "    k = cv2.waitKey(1) & 0xFF\n",
    "    if k == ord('q') or k == 27:\n",
    "        break               \n",
    "\n",
    "cap.release()\n",
    "cv2.destroyAllWindows()"
   ]
  },
  {
   "cell_type": "code",
   "execution_count": null,
   "id": "ff08e64c",
   "metadata": {},
   "outputs": [],
   "source": []
  }
 ],
 "metadata": {
  "kernelspec": {
   "display_name": "Python 3 (ipykernel)",
   "language": "python",
   "name": "python3"
  },
  "language_info": {
   "codemirror_mode": {
    "name": "ipython",
    "version": 3
   },
   "file_extension": ".py",
   "mimetype": "text/x-python",
   "name": "python",
   "nbconvert_exporter": "python",
   "pygments_lexer": "ipython3",
   "version": "3.11.4"
  }
 },
 "nbformat": 4,
 "nbformat_minor": 5
}
